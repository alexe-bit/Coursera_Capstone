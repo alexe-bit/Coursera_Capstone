{
 "cells": [
  {
   "cell_type": "markdown",
   "metadata": {},
   "source": [
    "# Capstone Project-Battle of the Neighborhoods:Week1\n",
    "## IBM Data science professional certification program on coursera"
   ]
  },
  {
   "cell_type": "markdown",
   "metadata": {},
   "source": [
    "## Table Of Contents"
   ]
  },
  {
   "cell_type": "markdown",
   "metadata": {},
   "source": [
    "* [Introduction: Business Problem](#introduction)\n",
    "* [Data](#data)"
   ]
  },
  {
   "cell_type": "markdown",
   "metadata": {},
   "source": [
    "\n",
    "## Introduction: Business Problem <a name=\"introduction\"></a>"
   ]
  },
  {
   "cell_type": "markdown",
   "metadata": {},
   "source": [
    "This project is designed to help a friend who is a security expert with plans to relocate to the City of Buffalo from Canada, create a portfolio of potential clients in the city of Buffalo New York State. \n",
    "\n",
    "His startup services is made up of security products, services, professional consultations. One of his major challenge is navigating through a new city and scoping out new areas and client, would prove a daunting task.\n",
    "\n",
    "After a few hours of discussing the problem with him and his team, the following were identified as key issues that needed to be resolved\n",
    "\n",
    "* Are there any data of crime rates?\n",
    "* Where were the most committed?\n",
    "* And finally what kind of Businesses are located around the crime rate?\n",
    "\n",
    "The answers to these questions would help him know the potential target areas and customers that the company shall like to do business with.\n",
    "\n",
    "Moreso, it will help to reduce  the cost of products/service promotions in the local media.\n",
    "\n",
    "And finally help selling different products and services to different customers based on the type of crimes that prevails in their areas.\n",
    "\n",
    "As a data scientist, tool that would be used for this projects to draw out insights shall include, a complete datasets of crimes and list of neighborhoods and their locations in the city of Buffalo, a folium python library to draw the map of Buffalo and foursquare API to extract the venues from the coordinates that will be superimposed on the map"
   ]
  },
  {
   "cell_type": "markdown",
   "metadata": {},
   "source": [
    "<a id='item1'></a>"
   ]
  },
  {
   "cell_type": "markdown",
   "metadata": {},
   "source": [
    "## Data <a name=\"data\"></a>"
   ]
  },
  {
   "cell_type": "markdown",
   "metadata": {},
   "source": [
    "To reolve the three key issues raised by my friend, the data that will be used for this project will contain information vital for the projects. It must be a location datasets and luckily for us the city of Buffalo  has a repository of data in the website sites. \n",
    "\n",
    "The dataset for crime rates will be download via [OPEN DATA BUFFALO](https://data.buffalony.gov/Public-Safety/Crime-Incidents/d6g9-xbgu) and it contains yearly reports of crimes committed and reported, with corresponding crime locations in the city of Buffalo, New York state from 2009 to 2018 and last updated in 2018\n",
    "\n",
    "The second dataset containing the list of neighborhoods with their corresponding coordinates was also downloaded via this link [OPEN DATA BUFFALO](https://data.buffalony.gov/browse?limitTo=maps)\n",
    "\n",
    "We will be working with the 2018 reports for both the crimes rate and neighborhoods so the data would undergo some forms of cleaning\n"
   ]
  }
 ],
 "metadata": {
  "kernelspec": {
   "display_name": "Python 3",
   "language": "python",
   "name": "python3"
  },
  "language_info": {
   "codemirror_mode": {
    "name": "ipython",
    "version": 3
   },
   "file_extension": ".py",
   "mimetype": "text/x-python",
   "name": "python",
   "nbconvert_exporter": "python",
   "pygments_lexer": "ipython3",
   "version": "3.6.12"
  }
 },
 "nbformat": 4,
 "nbformat_minor": 4
}
